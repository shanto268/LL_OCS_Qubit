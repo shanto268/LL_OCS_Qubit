{
 "cells": [
  {
   "cell_type": "code",
   "execution_count": 42,
   "id": "9854d016",
   "metadata": {},
   "outputs": [],
   "source": [
    "from pyEPR.calcs import Convert\n",
    "import numpy as np\n",
    "import matplotlib.pyplot as plt"
   ]
  },
  {
   "cell_type": "code",
   "execution_count": 9,
   "id": "43d91d73",
   "metadata": {},
   "outputs": [],
   "source": [
    "Phi0 = 2.068 * 1e-15"
   ]
  },
  {
   "cell_type": "code",
   "execution_count": 16,
   "id": "0005b702",
   "metadata": {},
   "outputs": [],
   "source": [
    "Ljs = np.arange(0.1,20,1) #nH\n"
   ]
  },
  {
   "cell_type": "code",
   "execution_count": 21,
   "id": "4f4f63d6",
   "metadata": {},
   "outputs": [
    {
     "data": {
      "text/plain": [
       "array([1634.61512807,  148.60137528,   77.83881562,   52.72952026,\n",
       "         39.86866166,   32.05127702,   26.79696931,   23.02274828,\n",
       "         20.18043368,   17.96280361,   16.1843082 ,   14.72626242,\n",
       "         13.50921593,   12.47797808,   11.59301509,   10.82526575,\n",
       "         10.15288899,    9.5591528 ,    9.03102281,    8.55819439])"
      ]
     },
     "execution_count": 21,
     "metadata": {},
     "output_type": "execute_result"
    }
   ],
   "source": [
    "Ejs = Convert.Ej_from_Lj(Ljs, 'nH', \"GHz\")\n",
    "Ejs"
   ]
  },
  {
   "cell_type": "code",
   "execution_count": 39,
   "id": "d4f044ab",
   "metadata": {},
   "outputs": [],
   "source": [
    "def get_Ec_from_Ej(Ej, target_omega):\n",
    "    a = np.sqrt(8*Ej)\n",
    "    w = target_omega\n",
    "    Ec_minus = 0.5*(a**2 - 2*w - np.sqrt(a**4 - 4*a**2 *w))\n",
    "    #Ec_plus = 0.5 *(a**2 - 2*w + np.sqrt(a**4 - 4*a**2 *w))\n",
    "    return Ec_minus #GHz\n",
    "\n"
   ]
  },
  {
   "cell_type": "code",
   "execution_count": 57,
   "id": "79fab059",
   "metadata": {},
   "outputs": [
    {
     "data": {
      "text/plain": [
       "array([0.00068855, 0.00760904, 0.0145939 , 0.02164427, 0.0287613 ,\n",
       "       0.03594619, 0.04320016, 0.05052448, 0.05792044, 0.06538938,\n",
       "       0.07293264, 0.08055166, 0.08824786, 0.09602274, 0.10387783,\n",
       "       0.1118147 , 0.11983498, 0.12794035, 0.13613252, 0.14441327])"
      ]
     },
     "execution_count": 57,
     "metadata": {},
     "output_type": "execute_result"
    }
   ],
   "source": [
    "Ecs = get_Ec_from_Ej(Ejs, target_omega=3) #GHz\n",
    "Ecs"
   ]
  },
  {
   "cell_type": "code",
   "execution_count": 56,
   "id": "37f9f86e",
   "metadata": {},
   "outputs": [
    {
     "data": {
      "text/plain": [
       "array([28131.85822292,  2545.68588579,  1327.28240095,   894.93584074,\n",
       "         673.48249611,   538.86744739,   448.38326148,   383.3830294 ,\n",
       "         334.42819086,   296.229002  ,   265.5906658 ,   240.46966229,\n",
       "         219.49801422,   201.72544628,   186.47126378,   173.23508757,\n",
       "         161.64085533,   151.40047162,   142.2895076 ,   134.13053434])"
      ]
     },
     "execution_count": 56,
     "metadata": {},
     "output_type": "execute_result"
    }
   ],
   "source": [
    "Cjs = Convert.Cs_from_Ec(Ecs, units_in='GHz', units_out='fF')\n",
    "Cjs"
   ]
  },
  {
   "cell_type": "code",
   "execution_count": 47,
   "id": "49414f59",
   "metadata": {},
   "outputs": [],
   "source": [
    "%matplotlib inline"
   ]
  },
  {
   "cell_type": "code",
   "execution_count": 51,
   "id": "b15b65ed",
   "metadata": {},
   "outputs": [
    {
     "data": {
      "image/png": "[encoded data removed]",
      "text/plain": [
       "<Figure size 640x480 with 1 Axes>"
      ]
     },
     "metadata": {},
     "output_type": "display_data"
    }
   ],
   "source": [
    "plt.plot(Ljs, Cjs)\n",
    "plt.yscale(\"log\")\n",
    "plt.show()"
   ]
  },
  {
   "cell_type": "code",
   "execution_count": 49,
   "id": "c4600ff2",
   "metadata": {},
   "outputs": [],
   "source": [
    "def get_Cj_from_Lj(Ljs, target_omega):\n",
    "    Ejs = Convert.Ej_from_Lj(Ljs, 'nH', \"GHz\")\n",
    "    Ecs = get_Ec_from_Ej(Ejs, target_omega=3) #GHz\n",
    "    Cjs = Convert.Cs_from_Ec(Ecs, units_in='GHz', units_out='fF')\n",
    "    return np.roundCjs"
   ]
  },
  {
   "cell_type": "code",
   "execution_count": 55,
   "id": "1a177dcd",
   "metadata": {},
   "outputs": [
    {
     "data": {
      "text/plain": [
       "268.37890779258316"
      ]
     },
     "execution_count": 55,
     "metadata": {},
     "output_type": "execute_result"
    }
   ],
   "source": [
    "get_Cj_from_Lj(10, target_omega=3)"
   ]
  }
 ],
 "metadata": {
  "hide_input": false,
  "kernelspec": {
   "display_name": "Python 3 (ipykernel)",
   "language": "python",
   "name": "python3"
  },
  "language_info": {
   "codemirror_mode": {
    "name": "ipython",
    "version": 3
   },
   "file_extension": ".py",
   "mimetype": "text/x-python",
   "name": "python",
   "nbconvert_exporter": "python",
   "pygments_lexer": "ipython3",
   "version": "3.10.6"
  },
  "toc": {
   "base_numbering": 1,
   "nav_menu": {},
   "number_sections": true,
   "sideBar": false,
   "skip_h1_title": false,
   "title_cell": "Table of Contents",
   "title_sidebar": "Contents",
   "toc_cell": false,
   "toc_position": {},
   "toc_section_display": false,
   "toc_window_display": false
  },
  "varInspector": {
   "cols": {
    "lenName": 16,
    "lenType": 16,
    "lenVar": 40
   },
   "kernels_config": {
    "python": {
     "delete_cmd_postfix": "",
     "delete_cmd_prefix": "del ",
     "library": "var_list.py",
     "varRefreshCmd": "print(var_dic_list())"
    },
    "r": {
     "delete_cmd_postfix": ") ",
     "delete_cmd_prefix": "rm(",
     "library": "var_list.r",
     "varRefreshCmd": "cat(var_dic_list()) "
    }
   },
   "types_to_exclude": [
    "module",
    "function",
    "builtin_function_or_method",
    "instance",
    "_Feature"
   ],
   "window_display": false
  }
 },
 "nbformat": 4,
 "nbformat_minor": 5
}
