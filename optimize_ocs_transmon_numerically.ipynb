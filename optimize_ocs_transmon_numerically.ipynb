{
 "cells": [
  {
   "cell_type": "code",
   "execution_count": 3,
   "id": "b966f7d9",
   "metadata": {},
   "outputs": [],
   "source": [
    "import numpy as np"
   ]
  },
  {
   "cell_type": "code",
   "execution_count": 2,
   "id": "bef97b0c",
   "metadata": {},
   "outputs": [],
   "source": [
    "def cal_josephson_inductance(jj_length, density = 1, bSquid=False):\n",
    "    jj_length = jj_length * 1e-3\n",
    "    jj_width = 200 * 1e-3 # in um\n",
    "    jj_area = jj_width * jj_length\n",
    "    Ic = jj_area * density * 1e-6  # in uA\n",
    "    pi = np.pi\n",
    "    Phi0 = 2.068 * 1e-15\n",
    "    if not bSquid:\n",
    "        return Phi0/Ic/2/pi * 1e9 #in nH\n",
    "    else:\n",
    "        return Phi0/(Ic*2)/2/pi * 1e9\n",
    "    \n",
    "def cal_JJ_length(Lj, density = 1, bSquid=False):\n",
    "    Lj = Lj * 1E-9 #in puts in nH -> converts to base unti\n",
    "    jj_width = 200 * 1e-3 # in um\n",
    "    pi = np.pi\n",
    "    Phi0 = 2.068 * 1e-15\n",
    "    if not bSquid:\n",
    "        return Phi0 / (2 * pi * jj_width * density * Lj) * 1E9\n",
    "    else:\n",
    "        return Phi0/ (4 * pi * jj_width * density * Lj) * 1E9"
   ]
  },
  {
   "cell_type": "code",
   "execution_count": 25,
   "id": "cdb4452f",
   "metadata": {},
   "outputs": [],
   "source": [
    "def cal_Ec_from_freq(freq,Lj):\n",
    "    omega = freq * 2*np.pi * 1e9\n",
    "    e = 1.60217663e-19 # in coulombs\n",
    "    C = 1/(Lj * 1e-9 * omega ** 2)\n",
    "    h = 6.62607015 *  1e-34\n",
    "    Ec = e ** 2/2/C/h/1e6 # in MHz, linear freq\n",
    "    print(f'Ec = {Ec:.4f} MHz')\n",
    "    return Ec\n",
    "\n",
    "def get_Ec_from_C(C_total):\n",
    "    e = 1.60217663e-19 # in coulombs\n",
    "    return e**2 / (2 * C_total)\n",
    "\n",
    "def get_C_total(C_qubit, Cj):\n",
    "    return C_qubit + Cj\n",
    "\n",
    "def get_Ej_from_Lj(Lj):\n",
    "    e = 1.60217663e-19 # in coulombs\n",
    "    hbar = 1.05457182 * 1e-34\n",
    "    Ej = (hbar/2*e)**2/(Lj* 1e-9)\n",
    "    print(f'Ej = {Ej:.4f} MHz')\n",
    "    return \n",
    "    \n",
    "def get_E_jc_ratio_from_C_total_Lj(C_total, Lj):\n",
    "    e = 1.60217663e-19 # in coulombs\n",
    "    hbar = 1.05457182 * 1e-34\n",
    "    Lj = Lj*1e-9 #in H\n",
    "    return (hbar**2/2*e**4)*(C_total/Lj)\n",
    "\n",
    "def get_super_current_from_JJ_param(w_jj, l_jj):\n",
    "    #cricitcal current density for this LL run: 1 uA/square um\n",
    "    mu_JJ = 1 #in uA/um^2\n",
    "    return w_jj*l_jj*mu_JJ\n",
    "\n",
    "def get_Lj_from_super_current(Ic,phi0=2.068*1e-15):\n",
    "    return (phi0/Ic)/(2*np.pi)\n",
    "\n",
    "\n",
    "def get_C_qubit(permittivity,area,gap):\n",
    "    return (permittivity*area)/(gap)\n",
    "\n",
    "def get_qubit_area(cross_length, cross_width):\n",
    "    return 4*(cross_length*cross_width) + (cross_width*cross_width)\n",
    "\n",
    "def get_C_from_L_freq(Lj, freq):\n",
    "    omega = freq * 2*np.pi * 1e9\n",
    "    e = 1.60217663e-19 # in coulombs\n",
    "    C = 1/(Lj * 1e-9 * omega ** 2)\n",
    "    return C"
   ]
  },
  {
   "cell_type": "markdown",
   "id": "6a130d97",
   "metadata": {},
   "source": [
    "## Test"
   ]
  },
  {
   "cell_type": "code",
   "execution_count": 26,
   "id": "9e3d4c4d",
   "metadata": {},
   "outputs": [
    {
     "data": {
      "text/plain": [
       "7.601315515420662e-149"
      ]
     },
     "execution_count": 26,
     "metadata": {},
     "output_type": "execute_result"
    }
   ],
   "source": [
    "cross_width = 30 #um\n",
    "cross_length = 225 #um\n",
    "cross_gap = 30 #um\n",
    "\n",
    "freq = 4.56 #GHz (qubit freq)\n",
    "\n",
    "permittivity_of_free_space = (8.854187817*1e-12) * (1/1e6) #F/um\n",
    "alumina_er = 10.4 # relative permitivity of alumina\n",
    "permittivity_qubit = alumina_er * permittivity_of_free_space #alumina assumption\n",
    "\n",
    "\n",
    "Lj = 10 #nH\n",
    "Cj = get_C_from_L_freq(Lj, freq)\n",
    "\n",
    "\n",
    "qubit_area = get_qubit_area(cross_length, cross_width)\n",
    "\n",
    "C_qubit = get_C_qubit(permittivity_qubit,qubit_area,cross_gap)\n",
    "\n",
    "C_total = get_C_total(C_qubit, Cj)\n",
    "\n",
    "get_E_jc_ratio_from_C_total_Lj(C_total, Lj)"
   ]
  },
  {
   "cell_type": "code",
   "execution_count": 27,
   "id": "8c49e5b6",
   "metadata": {},
   "outputs": [
    {
     "data": {
      "text/plain": [
       "1.2181775118586705e-13"
      ]
     },
     "execution_count": 27,
     "metadata": {},
     "output_type": "execute_result"
    }
   ],
   "source": [
    "Cj"
   ]
  },
  {
   "cell_type": "code",
   "execution_count": 28,
   "id": "8a3d4a4c",
   "metadata": {},
   "outputs": [
    {
     "data": {
      "text/plain": [
       "8.563770456602398e-14"
      ]
     },
     "execution_count": 28,
     "metadata": {},
     "output_type": "execute_result"
    }
   ],
   "source": [
    "C_qubit"
   ]
  },
  {
   "cell_type": "code",
   "execution_count": 29,
   "id": "2621fedd",
   "metadata": {},
   "outputs": [
    {
     "name": "stdout",
     "output_type": "stream",
     "text": [
      "Ec = 159.0099 MHz\n"
     ]
    }
   ],
   "source": [
    "Ec = cal_Ec_from_freq(freq,Lj)"
   ]
  },
  {
   "cell_type": "code",
   "execution_count": 31,
   "id": "cf76e228",
   "metadata": {},
   "outputs": [
    {
     "name": "stdout",
     "output_type": "stream",
     "text": [
      "Ej = 0.0000 MHz\n"
     ]
    }
   ],
   "source": [
    "Ej = get_Ej_from_Lj(Lj)\n",
    "Ej"
   ]
  }
 ],
 "metadata": {
  "kernelspec": {
   "display_name": "qiskit_metal",
   "language": "python",
   "name": "qiskit_metal"
  },
  "language_info": {
   "codemirror_mode": {
    "name": "ipython",
    "version": 3
   },
   "file_extension": ".py",
   "mimetype": "text/x-python",
   "name": "python",
   "nbconvert_exporter": "python",
   "pygments_lexer": "ipython3",
   "version": "3.9.13"
  },
  "toc": {
   "base_numbering": 1,
   "nav_menu": {},
   "number_sections": true,
   "sideBar": false,
   "skip_h1_title": false,
   "title_cell": "Table of Contents",
   "title_sidebar": "Contents",
   "toc_cell": false,
   "toc_position": {
    "height": "685px",
    "left": "10px",
    "top": "150px",
    "width": "302.390625px"
   },
   "toc_section_display": true,
   "toc_window_display": false
  }
 },
 "nbformat": 4,
 "nbformat_minor": 5
}
