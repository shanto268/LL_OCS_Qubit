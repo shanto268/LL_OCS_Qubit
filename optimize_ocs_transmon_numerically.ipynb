{
 "cells": [
  {
   "cell_type": "code",
   "execution_count": 16,
   "id": "d040f102",
   "metadata": {},
   "outputs": [],
   "source": [
    "import glob\n",
    "import matplotlib.pyplot as plt\n",
    "import numpy as np\n",
    "import pandas as pd"
   ]
  },
  {
   "cell_type": "code",
   "execution_count": 17,
   "id": "e0eb4fa9",
   "metadata": {},
   "outputs": [
    {
     "data": {
      "text/plain": [
       "['data/simulation_info_2022-11-16-20-41-44.csv',\n",
       " 'data/simulation_info_2022-11-16-20-44-55.csv',\n",
       " 'data/simulation_info_2022-11-16-20-48-08.csv',\n",
       " 'data/simulation_info_2022-11-16-20-23-45.csv']"
      ]
     },
     "execution_count": 17,
     "metadata": {},
     "output_type": "execute_result"
    }
   ],
   "source": [
    "data_files = glob.glob(\"data/*csv\")\n",
    "data_files"
   ]
  },
  {
   "cell_type": "code",
   "execution_count": 38,
   "id": "3d3b0147",
   "metadata": {},
   "outputs": [],
   "source": [
    "dfs = [pd.read_csv(data_files[i]) for i in range(len(data_files))]"
   ]
  },
  {
   "cell_type": "code",
   "execution_count": 39,
   "id": "6707fad6",
   "metadata": {},
   "outputs": [
    {
     "data": {
      "text/html": [
       "<div>\n",
       "<style scoped>\n",
       "    .dataframe tbody tr th:only-of-type {\n",
       "        vertical-align: middle;\n",
       "    }\n",
       "\n",
       "    .dataframe tbody tr th {\n",
       "        vertical-align: top;\n",
       "    }\n",
       "\n",
       "    .dataframe thead th {\n",
       "        text-align: right;\n",
       "    }\n",
       "</style>\n",
       "<table border=\"1\" class=\"dataframe\">\n",
       "  <thead>\n",
       "    <tr style=\"text-align: right;\">\n",
       "      <th></th>\n",
       "      <th>Unnamed: 0</th>\n",
       "      <th>cross_length (um)</th>\n",
       "      <th>cross_width (um)</th>\n",
       "      <th>cross_gap (um)</th>\n",
       "      <th>Lj (nH)</th>\n",
       "      <th>Cj (fF)</th>\n",
       "      <th>qubit_freq (GHz)</th>\n",
       "      <th>ratio</th>\n",
       "      <th>alpha (MHz)</th>\n",
       "      <th>w03 (GHz)</th>\n",
       "    </tr>\n",
       "  </thead>\n",
       "  <tbody>\n",
       "    <tr>\n",
       "      <th>0</th>\n",
       "      <td>0</td>\n",
       "      <td>225</td>\n",
       "      <td>30</td>\n",
       "      <td>30</td>\n",
       "      <td>40</td>\n",
       "      <td>56.71</td>\n",
       "      <td>4.471150</td>\n",
       "      <td>27.771963</td>\n",
       "      <td>-588.584663</td>\n",
       "      <td>12.236280</td>\n",
       "    </tr>\n",
       "    <tr>\n",
       "      <th>0</th>\n",
       "      <td>0</td>\n",
       "      <td>225</td>\n",
       "      <td>30</td>\n",
       "      <td>30</td>\n",
       "      <td>20</td>\n",
       "      <td>127.48</td>\n",
       "      <td>4.471150</td>\n",
       "      <td>55.198051</td>\n",
       "      <td>-296.136385</td>\n",
       "      <td>12.821176</td>\n",
       "    </tr>\n",
       "    <tr>\n",
       "      <th>0</th>\n",
       "      <td>0</td>\n",
       "      <td>225</td>\n",
       "      <td>30</td>\n",
       "      <td>30</td>\n",
       "      <td>30</td>\n",
       "      <td>80.38</td>\n",
       "      <td>4.471150</td>\n",
       "      <td>36.942846</td>\n",
       "      <td>-442.471363</td>\n",
       "      <td>12.528506</td>\n",
       "    </tr>\n",
       "    <tr>\n",
       "      <th>0</th>\n",
       "      <td>0</td>\n",
       "      <td>225</td>\n",
       "      <td>30</td>\n",
       "      <td>30</td>\n",
       "      <td>10</td>\n",
       "      <td>268.38</td>\n",
       "      <td>4.439588</td>\n",
       "      <td>111.085755</td>\n",
       "      <td>-147.148942</td>\n",
       "      <td>4.145289</td>\n",
       "    </tr>\n",
       "  </tbody>\n",
       "</table>\n",
       "</div>"
      ],
      "text/plain": [
       "   Unnamed: 0  cross_length (um)  cross_width (um)  cross_gap (um)  Lj (nH)  \\\n",
       "0           0                225                30              30       40   \n",
       "0           0                225                30              30       20   \n",
       "0           0                225                30              30       30   \n",
       "0           0                225                30              30       10   \n",
       "\n",
       "   Cj (fF)  qubit_freq (GHz)       ratio  alpha (MHz)  w03 (GHz)  \n",
       "0    56.71          4.471150   27.771963  -588.584663  12.236280  \n",
       "0   127.48          4.471150   55.198051  -296.136385  12.821176  \n",
       "0    80.38          4.471150   36.942846  -442.471363  12.528506  \n",
       "0   268.38          4.439588  111.085755  -147.148942   4.145289  "
      ]
     },
     "execution_count": 39,
     "metadata": {},
     "output_type": "execute_result"
    }
   ],
   "source": [
    "df = pd.concat(dfs)\n",
    "df"
   ]
  },
  {
   "cell_type": "code",
   "execution_count": 40,
   "id": "ad6e29c3",
   "metadata": {},
   "outputs": [],
   "source": [
    "df[\"w03 (GHz)\"] = (3*df[\"qubit_freq (GHz)\"]*1e9 + 2*df[\"alpha (MHz)\"]*1e6) / 1e9"
   ]
  },
  {
   "cell_type": "code",
   "execution_count": 41,
   "id": "78ddfa86",
   "metadata": {},
   "outputs": [
    {
     "data": {
      "text/html": [
       "<div>\n",
       "<style scoped>\n",
       "    .dataframe tbody tr th:only-of-type {\n",
       "        vertical-align: middle;\n",
       "    }\n",
       "\n",
       "    .dataframe tbody tr th {\n",
       "        vertical-align: top;\n",
       "    }\n",
       "\n",
       "    .dataframe thead th {\n",
       "        text-align: right;\n",
       "    }\n",
       "</style>\n",
       "<table border=\"1\" class=\"dataframe\">\n",
       "  <thead>\n",
       "    <tr style=\"text-align: right;\">\n",
       "      <th></th>\n",
       "      <th>Unnamed: 0</th>\n",
       "      <th>cross_length (um)</th>\n",
       "      <th>cross_width (um)</th>\n",
       "      <th>cross_gap (um)</th>\n",
       "      <th>Lj (nH)</th>\n",
       "      <th>Cj (fF)</th>\n",
       "      <th>qubit_freq (GHz)</th>\n",
       "      <th>ratio</th>\n",
       "      <th>alpha (MHz)</th>\n",
       "      <th>w03 (GHz)</th>\n",
       "    </tr>\n",
       "  </thead>\n",
       "  <tbody>\n",
       "    <tr>\n",
       "      <th>0</th>\n",
       "      <td>0</td>\n",
       "      <td>225</td>\n",
       "      <td>30</td>\n",
       "      <td>30</td>\n",
       "      <td>40</td>\n",
       "      <td>56.71</td>\n",
       "      <td>4.471150</td>\n",
       "      <td>27.771963</td>\n",
       "      <td>-588.584663</td>\n",
       "      <td>12.236280</td>\n",
       "    </tr>\n",
       "    <tr>\n",
       "      <th>0</th>\n",
       "      <td>0</td>\n",
       "      <td>225</td>\n",
       "      <td>30</td>\n",
       "      <td>30</td>\n",
       "      <td>20</td>\n",
       "      <td>127.48</td>\n",
       "      <td>4.471150</td>\n",
       "      <td>55.198051</td>\n",
       "      <td>-296.136385</td>\n",
       "      <td>12.821176</td>\n",
       "    </tr>\n",
       "    <tr>\n",
       "      <th>0</th>\n",
       "      <td>0</td>\n",
       "      <td>225</td>\n",
       "      <td>30</td>\n",
       "      <td>30</td>\n",
       "      <td>30</td>\n",
       "      <td>80.38</td>\n",
       "      <td>4.471150</td>\n",
       "      <td>36.942846</td>\n",
       "      <td>-442.471363</td>\n",
       "      <td>12.528506</td>\n",
       "    </tr>\n",
       "    <tr>\n",
       "      <th>0</th>\n",
       "      <td>0</td>\n",
       "      <td>225</td>\n",
       "      <td>30</td>\n",
       "      <td>30</td>\n",
       "      <td>10</td>\n",
       "      <td>268.38</td>\n",
       "      <td>4.439588</td>\n",
       "      <td>111.085755</td>\n",
       "      <td>-147.148942</td>\n",
       "      <td>13.024465</td>\n",
       "    </tr>\n",
       "  </tbody>\n",
       "</table>\n",
       "</div>"
      ],
      "text/plain": [
       "   Unnamed: 0  cross_length (um)  cross_width (um)  cross_gap (um)  Lj (nH)  \\\n",
       "0           0                225                30              30       40   \n",
       "0           0                225                30              30       20   \n",
       "0           0                225                30              30       30   \n",
       "0           0                225                30              30       10   \n",
       "\n",
       "   Cj (fF)  qubit_freq (GHz)       ratio  alpha (MHz)  w03 (GHz)  \n",
       "0    56.71          4.471150   27.771963  -588.584663  12.236280  \n",
       "0   127.48          4.471150   55.198051  -296.136385  12.821176  \n",
       "0    80.38          4.471150   36.942846  -442.471363  12.528506  \n",
       "0   268.38          4.439588  111.085755  -147.148942  13.024465  "
      ]
     },
     "execution_count": 41,
     "metadata": {},
     "output_type": "execute_result"
    }
   ],
   "source": [
    "df"
   ]
  },
  {
   "cell_type": "code",
   "execution_count": 50,
   "id": "45ff2363",
   "metadata": {},
   "outputs": [
    {
     "data": {
      "text/plain": [
       "<AxesSubplot: xlabel='Lj (nH)', ylabel='ratio'>"
      ]
     },
     "execution_count": 50,
     "metadata": {},
     "output_type": "execute_result"
    },
    {
     "data": {
      "image/png": "[encoded data removed]",
      "text/plain": [
       "<Figure size 640x480 with 1 Axes>"
      ]
     },
     "metadata": {},
     "output_type": "display_data"
    }
   ],
   "source": [
    "df.plot(\"Lj (nH)\",\"ratio\", kind=\"scatter\",sharex=True)"
   ]
  },
  {
   "cell_type": "code",
   "execution_count": 51,
   "id": "45e668dc",
   "metadata": {},
   "outputs": [
    {
     "data": {
      "text/plain": [
       "<AxesSubplot: xlabel='Lj (nH)', ylabel='qubit_freq (GHz)'>"
      ]
     },
     "execution_count": 51,
     "metadata": {},
     "output_type": "execute_result"
    },
    {
     "data": {
      "image/png": "[encoded data removed]",
      "text/plain": [
       "<Figure size 640x480 with 1 Axes>"
      ]
     },
     "metadata": {},
     "output_type": "display_data"
    }
   ],
   "source": [
    "df.plot(\"Lj (nH)\",\"qubit_freq (GHz)\", kind=\"scatter\",sharex=True)"
   ]
  },
  {
   "cell_type": "code",
   "execution_count": 52,
   "id": "bb215cf2",
   "metadata": {},
   "outputs": [
    {
     "data": {
      "text/plain": [
       "1.4711499999999997"
      ]
     },
     "execution_count": 52,
     "metadata": {},
     "output_type": "execute_result"
    }
   ],
   "source": [
    "4.471150 - 3"
   ]
  },
  {
   "cell_type": "code",
   "execution_count": null,
   "id": "9fe86324",
   "metadata": {},
   "outputs": [],
   "source": []
  }
 ],
 "metadata": {
  "kernelspec": {
   "display_name": "qiskit_metal",
   "language": "python",
   "name": "qiskit_metal"
  },
  "language_info": {
   "codemirror_mode": {
    "name": "ipython",
    "version": 3
   },
   "file_extension": ".py",
   "mimetype": "text/x-python",
   "name": "python",
   "nbconvert_exporter": "python",
   "pygments_lexer": "ipython3",
   "version": "3.9.13"
  },
  "toc": {
   "base_numbering": 1,
   "nav_menu": {},
   "number_sections": true,
   "sideBar": false,
   "skip_h1_title": false,
   "title_cell": "Table of Contents",
   "title_sidebar": "Contents",
   "toc_cell": false,
   "toc_position": {
    "height": "685px",
    "left": "10px",
    "top": "150px",
    "width": "302.390625px"
   },
   "toc_section_display": true,
   "toc_window_display": false
  }
 },
 "nbformat": 4,
 "nbformat_minor": 5
}
