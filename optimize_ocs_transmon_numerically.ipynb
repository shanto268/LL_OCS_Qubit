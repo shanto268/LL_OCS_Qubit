{
 "cells": [
  {
   "cell_type": "code",
   "execution_count": 1,
   "id": "6f4310be",
   "metadata": {},
   "outputs": [],
   "source": [
    "import glob\n",
    "import matplotlib.pyplot as plt\n",
    "import numpy as np\n",
    "import pandas as pd"
   ]
  },
  {
   "cell_type": "code",
   "execution_count": 2,
   "id": "48030633",
   "metadata": {},
   "outputs": [
    {
     "data": {
      "text/plain": [
       "['data/simulation_info_2022-11-17-04-11-33.csv',\n",
       " 'data/simulation_info_2022-11-17-01-18-18.csv',\n",
       " 'data/simulation_info_2022-11-16-21-40-28.csv',\n",
       " 'data/simulation_info_2022-11-17-00-41-46.csv',\n",
       " 'data/simulation_info_2022-11-17-05-17-18.csv',\n",
       " 'data/simulation_info_2022-11-17-00-12-33.csv',\n",
       " 'data/simulation_info_2022-11-17-03-05-23.csv',\n",
       " 'data/simulation_info_2022-11-16-23-18-17.csv',\n",
       " 'data/simulation_info_2022-11-16-23-37-21.csv',\n",
       " 'data/simulation_info_2022-11-17-00-54-58.csv',\n",
       " 'data/simulation_info_2022-11-16-23-56-30.csv',\n",
       " 'data/simulation_info_2022-11-17-03-45-29.csv',\n",
       " 'data/simulation_info_2022-11-17-04-04-04.csv',\n",
       " 'data/simulation_info_2022-11-16-21-55-23.csv',\n",
       " 'data/simulation_info_2022-11-17-02-51-06.csv',\n",
       " 'data/simulation_info_2022-11-17-00-19-01.csv',\n",
       " 'data/simulation_info_2022-11-17-00-38-30.csv',\n",
       " 'data/simulation_info_2022-11-17-02-30-02.csv',\n",
       " 'data/simulation_info_2022-11-17-02-05-52.csv',\n",
       " 'data/simulation_info_2022-11-17-03-49-11.csv',\n",
       " 'data/simulation_info_2022-11-17-01-31-48.csv',\n",
       " 'data/simulation_info_2022-11-17-05-09-20.csv',\n",
       " 'data/simulation_info_2022-11-16-21-33-00.csv',\n",
       " 'data/simulation_info_2022-11-16-22-24-10.csv',\n",
       " 'data/simulation_info_2022-11-16-22-59-10.csv',\n",
       " 'data/simulation_info_2022-11-17-02-16-10.csv',\n",
       " 'data/simulation_info_2022-11-17-03-38-06.csv',\n",
       " 'data/simulation_info_2022-11-17-05-05-21.csv',\n",
       " 'data/simulation_info_2022-11-17-01-35-11.csv',\n",
       " 'data/simulation_info_2022-11-17-01-25-00.csv',\n",
       " 'data/simulation_info_2022-11-17-00-02-54.csv',\n",
       " 'data/simulation_info_2022-11-16-23-34-10.csv',\n",
       " 'data/simulation_info_2022-11-17-00-28-44.csv',\n",
       " 'data/simulation_info_2022-11-16-23-46-55.csv',\n",
       " 'data/simulation_info_2022-11-16-21-44-12.csv',\n",
       " 'data/simulation_info_2022-11-17-00-35-14.csv',\n",
       " 'data/simulation_info_2022-11-17-03-19-51.csv',\n",
       " 'data/simulation_info_2022-11-17-04-38-04.csv',\n",
       " 'data/simulation_info_2022-11-17-00-31-58.csv',\n",
       " 'data/simulation_info_2022-11-17-01-52-13.csv',\n",
       " 'data/simulation_info_2022-11-17-04-49-38.csv',\n",
       " 'data/simulation_info_2022-11-17-01-45-23.csv',\n",
       " 'data/simulation_info_2022-11-17-01-04-55.csv',\n",
       " 'data/simulation_info_2022-11-16-23-05-33.csv',\n",
       " 'data/simulation_info_2022-11-17-01-38-35.csv',\n",
       " 'data/simulation_info_2022-11-16-21-25-29.csv',\n",
       " 'data/simulation_info_2022-11-16-21-47-55.csv',\n",
       " 'data/simulation_info_2022-11-17-02-40-30.csv',\n",
       " 'data/simulation_info_2022-11-16-21-29-14.csv',\n",
       " 'data/simulation_info_2022-11-16-22-17-51.csv',\n",
       " 'data/simulation_info_2022-11-17-03-16-13.csv',\n",
       " 'data/simulation_info_2022-11-16-21-36-44.csv',\n",
       " 'data/simulation_info_2022-11-17-01-21-39.csv',\n",
       " 'data/simulation_info_2022-11-17-02-33-31.csv',\n",
       " 'data/simulation_info_2022-11-16-22-27-21.csv',\n",
       " 'data/simulation_info_2022-11-16-22-43-15.csv',\n",
       " 'data/simulation_info_2022-11-17-05-01-25.csv',\n",
       " 'data/simulation_info_2022-11-17-02-54-40.csv',\n",
       " 'data/simulation_info_2022-11-17-00-58-17.csv',\n",
       " 'data/simulation_info_2022-11-16-22-55-59.csv',\n",
       " 'data/simulation_info_2022-11-16-23-40-33.csv',\n",
       " 'data/simulation_info_2022-11-17-05-13-19.csv',\n",
       " 'data/simulation_info_2022-11-17-04-34-14.csv',\n",
       " 'data/simulation_info_2022-11-17-03-52-54.csv',\n",
       " 'data/simulation_info_2022-11-17-00-25-29.csv',\n",
       " 'data/simulation_info_2022-11-16-22-33-43.csv',\n",
       " 'data/simulation_info_2022-11-16-20-41-44.csv',\n",
       " 'data/simulation_info_2022-11-16-22-46-26.csv',\n",
       " 'data/simulation_info_2022-11-17-04-57-29.csv',\n",
       " 'data/simulation_info_2022-11-17-01-28-23.csv',\n",
       " 'data/simulation_info_2022-11-17-01-14-57.csv',\n",
       " 'data/simulation_info_2022-11-17-02-19-37.csv',\n",
       " 'data/simulation_info_2022-11-17-01-55-37.csv',\n",
       " 'data/simulation_info_2022-11-16-23-11-55.csv',\n",
       " 'data/simulation_info_2022-11-17-04-15-18.csv',\n",
       " 'data/simulation_info_2022-11-17-02-09-17.csv',\n",
       " 'data/simulation_info_2022-11-16-23-43-44.csv',\n",
       " 'data/simulation_info_2022-11-17-02-47-32.csv',\n",
       " 'data/simulation_info_2022-11-17-04-00-21.csv',\n",
       " 'data/simulation_info_2022-11-17-04-41-55.csv',\n",
       " 'data/simulation_info_2022-11-16-23-31-00.csv',\n",
       " 'data/simulation_info_2022-11-16-23-08-44.csv',\n",
       " 'data/simulation_info_2022-11-16-21-21-46.csv',\n",
       " 'data/simulation_info_2022-11-16-23-50-07.csv',\n",
       " 'data/simulation_info_2022-11-17-00-06-06.csv',\n",
       " 'data/simulation_info_2022-11-17-02-23-04.csv',\n",
       " 'data/simulation_info_2022-11-16-22-52-48.csv',\n",
       " 'data/simulation_info_2022-11-16-21-51-39.csv',\n",
       " 'data/simulation_info_2022-11-17-00-15-47.csv',\n",
       " 'data/simulation_info_2022-11-17-01-41-59.csv',\n",
       " 'data/simulation_info_2022-11-16-23-02-22.csv',\n",
       " 'data/simulation_info_2022-11-17-03-27-06.csv',\n",
       " 'data/simulation_info_2022-11-16-23-15-06.csv',\n",
       " 'data/simulation_info_2022-11-16-22-11-29.csv',\n",
       " 'data/simulation_info_2022-11-17-02-02-25.csv',\n",
       " 'data/simulation_info_2022-11-17-01-59-01.csv',\n",
       " 'data/simulation_info_2022-11-17-04-26-37.csv',\n",
       " 'data/simulation_info_2022-11-17-02-26-32.csv',\n",
       " 'data/simulation_info_2022-11-17-01-48-46.csv',\n",
       " 'data/simulation_info_2022-11-17-00-22-15.csv',\n",
       " 'data/simulation_info_2022-11-17-00-48-19.csv',\n",
       " 'data/simulation_info_2022-11-17-04-19-04.csv',\n",
       " 'data/simulation_info_2022-11-17-03-56-38.csv',\n",
       " 'data/simulation_info_2022-11-17-04-22-50.csv',\n",
       " 'data/simulation_info_2022-11-16-23-21-28.csv',\n",
       " 'data/simulation_info_2022-11-16-22-30-32.csv',\n",
       " 'data/simulation_info_2022-11-17-00-51-39.csv',\n",
       " 'data/simulation_info_2022-11-16-20-44-55.csv',\n",
       " 'data/simulation_info_2022-11-16-23-27-49.csv',\n",
       " 'data/simulation_info_2022-11-16-22-36-53.csv',\n",
       " 'data/simulation_info_2022-11-16-22-14-40.csv',\n",
       " 'data/simulation_info_2022-11-17-03-41-47.csv',\n",
       " 'data/simulation_info_2022-11-17-00-45-03.csv',\n",
       " 'data/simulation_info_2022-11-17-02-44-00.csv',\n",
       " 'data/simulation_info_2022-11-17-03-30-46.csv',\n",
       " 'data/simulation_info_2022-11-16-23-59-42.csv',\n",
       " 'data/simulation_info_2022-11-16-23-24-40.csv',\n",
       " 'data/simulation_info_2022-11-17-04-53-34.csv',\n",
       " 'data/simulation_info_2022-11-17-01-11-36.csv',\n",
       " 'data/simulation_info_2022-11-17-03-09-00.csv',\n",
       " 'data/simulation_info_2022-11-17-00-09-20.csv',\n",
       " 'data/simulation_info_2022-11-17-04-45-45.csv',\n",
       " 'data/simulation_info_2022-11-17-01-08-16.csv',\n",
       " 'data/simulation_info_2022-11-17-04-07-48.csv',\n",
       " 'data/simulation_info_2022-11-17-04-30-25.csv',\n",
       " 'data/simulation_info_2022-11-16-23-53-18.csv',\n",
       " 'data/simulation_info_2022-11-16-20-48-08.csv',\n",
       " 'data/simulation_info_2022-11-17-01-01-36.csv',\n",
       " 'data/simulation_info_2022-11-16-22-49-37.csv',\n",
       " 'data/simulation_info_2022-11-17-02-12-43.csv',\n",
       " 'data/simulation_info_2022-11-17-03-23-28.csv',\n",
       " 'data/simulation_info_2022-11-16-20-23-45.csv',\n",
       " 'data/simulation_info_2022-11-17-03-01-48.csv',\n",
       " 'data/simulation_info_2022-11-17-03-12-36.csv',\n",
       " 'data/simulation_info_2022-11-17-03-34-26.csv',\n",
       " 'data/simulation_info_2022-11-16-22-21-01.csv',\n",
       " 'data/simulation_info_2022-11-17-02-58-14.csv',\n",
       " 'data/simulation_info_2022-11-16-22-40-04.csv',\n",
       " 'data/simulation_info_2022-11-17-02-37-01.csv']"
      ]
     },
     "execution_count": 2,
     "metadata": {},
     "output_type": "execute_result"
    }
   ],
   "source": [
    "data_files = glob.glob(\"data/*csv\")\n",
    "data_files"
   ]
  },
  {
   "cell_type": "code",
   "execution_count": 3,
   "id": "3e58895e",
   "metadata": {},
   "outputs": [],
   "source": [
    "dfs = [pd.read_csv(data_files[i]) for i in range(len(data_files))]"
   ]
  },
  {
   "cell_type": "code",
   "execution_count": 4,
   "id": "7b5ddc78",
   "metadata": {},
   "outputs": [
    {
     "data": {
      "text/html": [
       "<div>\n",
       "<style scoped>\n",
       "    .dataframe tbody tr th:only-of-type {\n",
       "        vertical-align: middle;\n",
       "    }\n",
       "\n",
       "    .dataframe tbody tr th {\n",
       "        vertical-align: top;\n",
       "    }\n",
       "\n",
       "    .dataframe thead th {\n",
       "        text-align: right;\n",
       "    }\n",
       "</style>\n",
       "<table border=\"1\" class=\"dataframe\">\n",
       "  <thead>\n",
       "    <tr style=\"text-align: right;\">\n",
       "      <th></th>\n",
       "      <th>Unnamed: 0</th>\n",
       "      <th>cross_length (um)</th>\n",
       "      <th>cross_width (um)</th>\n",
       "      <th>cross_gap (um)</th>\n",
       "      <th>Lj (nH)</th>\n",
       "      <th>Cj (fF)</th>\n",
       "      <th>qubit_freq (GHz)</th>\n",
       "      <th>ratio</th>\n",
       "      <th>alpha (MHz)</th>\n",
       "      <th>w03 (GHz)</th>\n",
       "    </tr>\n",
       "  </thead>\n",
       "  <tbody>\n",
       "    <tr>\n",
       "      <th>0</th>\n",
       "      <td>0</td>\n",
       "      <td>200</td>\n",
       "      <td>30</td>\n",
       "      <td>20</td>\n",
       "      <td>20</td>\n",
       "      <td>127.48</td>\n",
       "      <td>4.471150</td>\n",
       "      <td>55.198051</td>\n",
       "      <td>-296.136385</td>\n",
       "      <td>12.821176</td>\n",
       "    </tr>\n",
       "    <tr>\n",
       "      <th>0</th>\n",
       "      <td>0</td>\n",
       "      <td>150</td>\n",
       "      <td>40</td>\n",
       "      <td>20</td>\n",
       "      <td>20</td>\n",
       "      <td>127.48</td>\n",
       "      <td>4.471150</td>\n",
       "      <td>55.198051</td>\n",
       "      <td>-296.136385</td>\n",
       "      <td>12.821176</td>\n",
       "    </tr>\n",
       "    <tr>\n",
       "      <th>0</th>\n",
       "      <td>0</td>\n",
       "      <td>225</td>\n",
       "      <td>30</td>\n",
       "      <td>30</td>\n",
       "      <td>60</td>\n",
       "      <td>32.72</td>\n",
       "      <td>4.474118</td>\n",
       "      <td>18.545471</td>\n",
       "      <td>-881.409316</td>\n",
       "      <td>11.659536</td>\n",
       "    </tr>\n",
       "    <tr>\n",
       "      <th>0</th>\n",
       "      <td>0</td>\n",
       "      <td>125</td>\n",
       "      <td>30</td>\n",
       "      <td>50</td>\n",
       "      <td>20</td>\n",
       "      <td>127.48</td>\n",
       "      <td>4.471150</td>\n",
       "      <td>55.198051</td>\n",
       "      <td>-296.136385</td>\n",
       "      <td>12.821176</td>\n",
       "    </tr>\n",
       "    <tr>\n",
       "      <th>0</th>\n",
       "      <td>0</td>\n",
       "      <td>200</td>\n",
       "      <td>50</td>\n",
       "      <td>50</td>\n",
       "      <td>20</td>\n",
       "      <td>127.48</td>\n",
       "      <td>4.471150</td>\n",
       "      <td>55.198051</td>\n",
       "      <td>-296.136385</td>\n",
       "      <td>12.821176</td>\n",
       "    </tr>\n",
       "    <tr>\n",
       "      <th>...</th>\n",
       "      <td>...</td>\n",
       "      <td>...</td>\n",
       "      <td>...</td>\n",
       "      <td>...</td>\n",
       "      <td>...</td>\n",
       "      <td>...</td>\n",
       "      <td>...</td>\n",
       "      <td>...</td>\n",
       "      <td>...</td>\n",
       "      <td>...</td>\n",
       "    </tr>\n",
       "    <tr>\n",
       "      <th>0</th>\n",
       "      <td>0</td>\n",
       "      <td>175</td>\n",
       "      <td>30</td>\n",
       "      <td>50</td>\n",
       "      <td>20</td>\n",
       "      <td>127.48</td>\n",
       "      <td>4.471150</td>\n",
       "      <td>55.198051</td>\n",
       "      <td>-296.136385</td>\n",
       "      <td>12.821176</td>\n",
       "    </tr>\n",
       "    <tr>\n",
       "      <th>0</th>\n",
       "      <td>0</td>\n",
       "      <td>100</td>\n",
       "      <td>40</td>\n",
       "      <td>10</td>\n",
       "      <td>20</td>\n",
       "      <td>127.48</td>\n",
       "      <td>4.471150</td>\n",
       "      <td>55.198051</td>\n",
       "      <td>-296.136385</td>\n",
       "      <td>12.821176</td>\n",
       "    </tr>\n",
       "    <tr>\n",
       "      <th>0</th>\n",
       "      <td>0</td>\n",
       "      <td>175</td>\n",
       "      <td>30</td>\n",
       "      <td>30</td>\n",
       "      <td>20</td>\n",
       "      <td>127.48</td>\n",
       "      <td>4.471150</td>\n",
       "      <td>55.198051</td>\n",
       "      <td>-296.136385</td>\n",
       "      <td>12.821176</td>\n",
       "    </tr>\n",
       "    <tr>\n",
       "      <th>0</th>\n",
       "      <td>0</td>\n",
       "      <td>100</td>\n",
       "      <td>50</td>\n",
       "      <td>20</td>\n",
       "      <td>20</td>\n",
       "      <td>127.48</td>\n",
       "      <td>4.471150</td>\n",
       "      <td>55.198051</td>\n",
       "      <td>-296.136385</td>\n",
       "      <td>12.821176</td>\n",
       "    </tr>\n",
       "    <tr>\n",
       "      <th>0</th>\n",
       "      <td>0</td>\n",
       "      <td>175</td>\n",
       "      <td>20</td>\n",
       "      <td>20</td>\n",
       "      <td>20</td>\n",
       "      <td>127.48</td>\n",
       "      <td>4.471150</td>\n",
       "      <td>55.198051</td>\n",
       "      <td>-296.136385</td>\n",
       "      <td>12.821176</td>\n",
       "    </tr>\n",
       "  </tbody>\n",
       "</table>\n",
       "<p>139 rows × 10 columns</p>\n",
       "</div>"
      ],
      "text/plain": [
       "    Unnamed: 0  cross_length (um)  cross_width (um)  cross_gap (um)  Lj (nH)  \\\n",
       "0            0                200                30              20       20   \n",
       "0            0                150                40              20       20   \n",
       "0            0                225                30              30       60   \n",
       "0            0                125                30              50       20   \n",
       "0            0                200                50              50       20   \n",
       "..         ...                ...               ...             ...      ...   \n",
       "0            0                175                30              50       20   \n",
       "0            0                100                40              10       20   \n",
       "0            0                175                30              30       20   \n",
       "0            0                100                50              20       20   \n",
       "0            0                175                20              20       20   \n",
       "\n",
       "    Cj (fF)  qubit_freq (GHz)      ratio  alpha (MHz)  w03 (GHz)  \n",
       "0    127.48          4.471150  55.198051  -296.136385  12.821176  \n",
       "0    127.48          4.471150  55.198051  -296.136385  12.821176  \n",
       "0     32.72          4.474118  18.545471  -881.409316  11.659536  \n",
       "0    127.48          4.471150  55.198051  -296.136385  12.821176  \n",
       "0    127.48          4.471150  55.198051  -296.136385  12.821176  \n",
       "..      ...               ...        ...          ...        ...  \n",
       "0    127.48          4.471150  55.198051  -296.136385  12.821176  \n",
       "0    127.48          4.471150  55.198051  -296.136385  12.821176  \n",
       "0    127.48          4.471150  55.198051  -296.136385  12.821176  \n",
       "0    127.48          4.471150  55.198051  -296.136385  12.821176  \n",
       "0    127.48          4.471150  55.198051  -296.136385  12.821176  \n",
       "\n",
       "[139 rows x 10 columns]"
      ]
     },
     "execution_count": 4,
     "metadata": {},
     "output_type": "execute_result"
    }
   ],
   "source": [
    "df = pd.concat(dfs)\n",
    "df"
   ]
  },
  {
   "cell_type": "code",
   "execution_count": 14,
   "id": "084019c6",
   "metadata": {},
   "outputs": [
    {
     "data": {
      "text/html": [
       "<div>\n",
       "<style scoped>\n",
       "    .dataframe tbody tr th:only-of-type {\n",
       "        vertical-align: middle;\n",
       "    }\n",
       "\n",
       "    .dataframe tbody tr th {\n",
       "        vertical-align: top;\n",
       "    }\n",
       "\n",
       "    .dataframe thead th {\n",
       "        text-align: right;\n",
       "    }\n",
       "</style>\n",
       "<table border=\"1\" class=\"dataframe\">\n",
       "  <thead>\n",
       "    <tr style=\"text-align: right;\">\n",
       "      <th></th>\n",
       "      <th>Unnamed: 0</th>\n",
       "      <th>cross_length (um)</th>\n",
       "      <th>cross_width (um)</th>\n",
       "      <th>cross_gap (um)</th>\n",
       "      <th>Lj (nH)</th>\n",
       "      <th>Cj (fF)</th>\n",
       "      <th>qubit_freq (GHz)</th>\n",
       "      <th>ratio</th>\n",
       "      <th>alpha (MHz)</th>\n",
       "      <th>w03 (GHz)</th>\n",
       "    </tr>\n",
       "  </thead>\n",
       "  <tbody>\n",
       "    <tr>\n",
       "      <th>0</th>\n",
       "      <td>0</td>\n",
       "      <td>225</td>\n",
       "      <td>30</td>\n",
       "      <td>30</td>\n",
       "      <td>60</td>\n",
       "      <td>32.72</td>\n",
       "      <td>4.474118</td>\n",
       "      <td>18.545471</td>\n",
       "      <td>-881.409316</td>\n",
       "      <td>11.659536</td>\n",
       "    </tr>\n",
       "    <tr>\n",
       "      <th>0</th>\n",
       "      <td>0</td>\n",
       "      <td>225</td>\n",
       "      <td>30</td>\n",
       "      <td>30</td>\n",
       "      <td>40</td>\n",
       "      <td>56.71</td>\n",
       "      <td>4.474118</td>\n",
       "      <td>27.743639</td>\n",
       "      <td>-589.185560</td>\n",
       "      <td>12.243984</td>\n",
       "    </tr>\n",
       "    <tr>\n",
       "      <th>0</th>\n",
       "      <td>0</td>\n",
       "      <td>225</td>\n",
       "      <td>30</td>\n",
       "      <td>30</td>\n",
       "      <td>30</td>\n",
       "      <td>80.38</td>\n",
       "      <td>4.474118</td>\n",
       "      <td>36.904482</td>\n",
       "      <td>-442.931326</td>\n",
       "      <td>12.536492</td>\n",
       "    </tr>\n",
       "    <tr>\n",
       "      <th>0</th>\n",
       "      <td>0</td>\n",
       "      <td>225</td>\n",
       "      <td>30</td>\n",
       "      <td>30</td>\n",
       "      <td>50</td>\n",
       "      <td>42.39</td>\n",
       "      <td>4.474118</td>\n",
       "      <td>22.229713</td>\n",
       "      <td>-735.328938</td>\n",
       "      <td>11.951697</td>\n",
       "    </tr>\n",
       "    <tr>\n",
       "      <th>0</th>\n",
       "      <td>0</td>\n",
       "      <td>225</td>\n",
       "      <td>30</td>\n",
       "      <td>30</td>\n",
       "      <td>40</td>\n",
       "      <td>56.71</td>\n",
       "      <td>4.471150</td>\n",
       "      <td>27.771963</td>\n",
       "      <td>-588.584663</td>\n",
       "      <td>12.236280</td>\n",
       "    </tr>\n",
       "    <tr>\n",
       "      <th>0</th>\n",
       "      <td>0</td>\n",
       "      <td>225</td>\n",
       "      <td>30</td>\n",
       "      <td>30</td>\n",
       "      <td>30</td>\n",
       "      <td>80.38</td>\n",
       "      <td>4.471150</td>\n",
       "      <td>36.942846</td>\n",
       "      <td>-442.471363</td>\n",
       "      <td>12.528506</td>\n",
       "    </tr>\n",
       "  </tbody>\n",
       "</table>\n",
       "</div>"
      ],
      "text/plain": [
       "   Unnamed: 0  cross_length (um)  cross_width (um)  cross_gap (um)  Lj (nH)  \\\n",
       "0           0                225                30              30       60   \n",
       "0           0                225                30              30       40   \n",
       "0           0                225                30              30       30   \n",
       "0           0                225                30              30       50   \n",
       "0           0                225                30              30       40   \n",
       "0           0                225                30              30       30   \n",
       "\n",
       "   Cj (fF)  qubit_freq (GHz)      ratio  alpha (MHz)  w03 (GHz)  \n",
       "0    32.72          4.474118  18.545471  -881.409316  11.659536  \n",
       "0    56.71          4.474118  27.743639  -589.185560  12.243984  \n",
       "0    80.38          4.474118  36.904482  -442.931326  12.536492  \n",
       "0    42.39          4.474118  22.229713  -735.328938  11.951697  \n",
       "0    56.71          4.471150  27.771963  -588.584663  12.236280  \n",
       "0    80.38          4.471150  36.942846  -442.471363  12.528506  "
      ]
     },
     "execution_count": 14,
     "metadata": {},
     "output_type": "execute_result"
    }
   ],
   "source": [
    "df_ocs = df[df[\"ratio\"]<50]\n",
    "df_ocs"
   ]
  },
  {
   "cell_type": "code",
   "execution_count": 19,
   "id": "eeb9baba",
   "metadata": {},
   "outputs": [
    {
     "data": {
      "text/plain": [
       "(0.0, 100.0)"
      ]
     },
     "execution_count": 19,
     "metadata": {},
     "output_type": "execute_result"
    },
    {
     "data": {
      "image/png": "[encoded data removed]",
      "text/plain": [
       "<Figure size 640x480 with 1 Axes>"
      ]
     },
     "metadata": {},
     "output_type": "display_data"
    }
   ],
   "source": [
    "df[\"ratio\"].hist(bins=100)\n",
    "plt.xlim([0,100])"
   ]
  },
  {
   "cell_type": "code",
   "execution_count": 21,
   "id": "1cb013c7",
   "metadata": {},
   "outputs": [
    {
     "data": {
      "text/plain": [
       "(0.0, 80.0)"
      ]
     },
     "execution_count": 21,
     "metadata": {},
     "output_type": "execute_result"
    },
    {
     "data": {
      "image/png": "[encoded data removed]",
      "text/plain": [
       "<Figure size 640x480 with 1 Axes>"
      ]
     },
     "metadata": {},
     "output_type": "display_data"
    }
   ],
   "source": [
    "df.plot(\"cross_gap (um)\",\"ratio\", kind=\"scatter\",sharex=True)\n",
    "plt.ylim([0,80])"
   ]
  },
  {
   "cell_type": "code",
   "execution_count": 22,
   "id": "6edbad48",
   "metadata": {},
   "outputs": [
    {
     "data": {
      "text/plain": [
       "(0.0, 80.0)"
      ]
     },
     "execution_count": 22,
     "metadata": {},
     "output_type": "execute_result"
    },
    {
     "data": {
      "image/png": "[encoded data removed]",
      "text/plain": [
       "<Figure size 640x480 with 1 Axes>"
      ]
     },
     "metadata": {},
     "output_type": "display_data"
    }
   ],
   "source": [
    "df.plot(\"cross_width (um)\",\"ratio\", kind=\"scatter\",sharex=True)\n",
    "plt.ylim([0,80])"
   ]
  },
  {
   "cell_type": "code",
   "execution_count": 20,
   "id": "93d8d8b6",
   "metadata": {},
   "outputs": [
    {
     "data": {
      "text/plain": [
       "(0.0, 80.0)"
      ]
     },
     "execution_count": 20,
     "metadata": {},
     "output_type": "execute_result"
    },
    {
     "data": {
      "image/png": "[encoded data removed]",
      "text/plain": [
       "<Figure size 640x480 with 1 Axes>"
      ]
     },
     "metadata": {},
     "output_type": "display_data"
    }
   ],
   "source": [
    "df.plot(\"cross_length (um)\",\"ratio\", kind=\"scatter\",sharex=True)\n",
    "plt.ylim([0,80])"
   ]
  },
  {
   "cell_type": "code",
   "execution_count": 5,
   "id": "83ea9674",
   "metadata": {},
   "outputs": [
    {
     "data": {
      "text/plain": [
       "<AxesSubplot: xlabel='Lj (nH)', ylabel='ratio'>"
      ]
     },
     "execution_count": 5,
     "metadata": {},
     "output_type": "execute_result"
    },
    {
     "data": {
      "image/png": "[encoded data removed]",
      "text/plain": [
       "<Figure size 640x480 with 1 Axes>"
      ]
     },
     "metadata": {},
     "output_type": "display_data"
    }
   ],
   "source": [
    "df.plot(\"Lj (nH)\",\"ratio\", kind=\"scatter\",sharex=True)"
   ]
  },
  {
   "cell_type": "code",
   "execution_count": 6,
   "id": "623c6685",
   "metadata": {},
   "outputs": [
    {
     "data": {
      "text/plain": [
       "<AxesSubplot: xlabel='Lj (nH)', ylabel='qubit_freq (GHz)'>"
      ]
     },
     "execution_count": 6,
     "metadata": {},
     "output_type": "execute_result"
    },
    {
     "data": {
      "image/png": "[encoded data removed]",
      "text/plain": [
       "<Figure size 640x480 with 1 Axes>"
      ]
     },
     "metadata": {},
     "output_type": "display_data"
    }
   ],
   "source": [
    "df.plot(\"Lj (nH)\",\"qubit_freq (GHz)\", kind=\"scatter\",sharex=True)"
   ]
  }
 ],
 "metadata": {
  "kernelspec": {
   "display_name": "qiskit_metal",
   "language": "python",
   "name": "qiskit_metal"
  },
  "language_info": {
   "codemirror_mode": {
    "name": "ipython",
    "version": 3
   },
   "file_extension": ".py",
   "mimetype": "text/x-python",
   "name": "python",
   "nbconvert_exporter": "python",
   "pygments_lexer": "ipython3",
   "version": "3.9.13"
  },
  "toc": {
   "base_numbering": 1,
   "nav_menu": {},
   "number_sections": true,
   "sideBar": false,
   "skip_h1_title": false,
   "title_cell": "Table of Contents",
   "title_sidebar": "Contents",
   "toc_cell": false,
   "toc_position": {
    "height": "685px",
    "left": "10px",
    "top": "150px",
    "width": "302.390625px"
   },
   "toc_section_display": true,
   "toc_window_display": false
  }
 },
 "nbformat": 4,
 "nbformat_minor": 5
}
